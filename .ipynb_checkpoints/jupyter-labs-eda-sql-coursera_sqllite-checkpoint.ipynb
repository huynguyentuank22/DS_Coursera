{
 "cells": [
  {
   "cell_type": "markdown",
   "metadata": {},
   "source": [
    "<p style=\"text-align:center\">\n",
    "    <a href=\"https://skills.network\" target=\"_blank\">\n",
    "    <img src=\"https://cf-courses-data.s3.us.cloud-object-storage.appdomain.cloud/assets/logos/SN_web_lightmode.png\" width=\"200\" alt=\"Skills Network Logo\">\n",
    "    </a>\n",
    "</p>\n",
    "\n",
    "<h1 align=center><font size = 5>Assignment: SQL Notebook for Peer Assignment</font></h1>\n",
    "\n",
    "Estimated time needed: **60** minutes.\n",
    "\n",
    "## Introduction\n",
    "Using this Python notebook you will:\n",
    "\n",
    "1.  Understand the Spacex DataSet\n",
    "2.  Load the dataset  into the corresponding table in a Db2 database\n",
    "3.  Execute SQL queries to answer assignment questions \n"
   ]
  },
  {
   "cell_type": "markdown",
   "metadata": {},
   "source": [
    "## Overview of the DataSet\n",
    "\n",
    "SpaceX has gained worldwide attention for a series of historic milestones. \n",
    "\n",
    "It is the only private company ever to return a spacecraft from low-earth orbit, which it first accomplished in December 2010.\n",
    "SpaceX advertises Falcon 9 rocket launches on its website with a cost of 62 million dollars wheras other providers cost upward of 165 million dollars each, much of the savings is because Space X can reuse the first stage. \n",
    "\n",
    "\n",
    "Therefore if we can determine if the first stage will land, we can determine the cost of a launch. \n",
    "\n",
    "This information can be used if an alternate company wants to bid against SpaceX for a rocket launch.\n",
    "\n",
    "This dataset includes a record for each payload carried during a SpaceX mission into outer space.\n"
   ]
  },
  {
   "cell_type": "markdown",
   "metadata": {},
   "source": [
    "### Download the datasets\n",
    "\n",
    "This assignment requires you to load the spacex dataset.\n",
    "\n",
    "In many cases the dataset to be analyzed is available as a .CSV (comma separated values) file, perhaps on the internet. Click on the link below to download and save the dataset (.CSV file):\n",
    "\n",
    " <a href=\"https://cf-courses-data.s3.us.cloud-object-storage.appdomain.cloud/IBM-DS0321EN-SkillsNetwork/labs/module_2/data/Spacex.csv\" target=\"_blank\">Spacex DataSet</a>\n",
    "\n"
   ]
  },
  {
   "cell_type": "code",
   "execution_count": 1,
   "metadata": {},
   "outputs": [
    {
     "name": "stdout",
     "output_type": "stream",
     "text": [
      "Collecting sqlalchemy==1.3.9\n",
      "  Downloading SQLAlchemy-1.3.9.tar.gz (6.0 MB)\n",
      "     ---------------------------------------- 0.0/6.0 MB ? eta -:--:--\n",
      "     ---------------------------------------- 0.0/6.0 MB ? eta -:--:--\n",
      "     ---------------------------------------- 0.0/6.0 MB 330.3 kB/s eta 0:00:19\n",
      "     ---------------------------------------- 0.0/6.0 MB 330.3 kB/s eta 0:00:19\n",
      "     ---------------------------------------- 0.0/6.0 MB 245.8 kB/s eta 0:00:25\n",
      "      --------------------------------------- 0.1/6.0 MB 459.5 kB/s eta 0:00:13\n",
      "     - -------------------------------------- 0.2/6.0 MB 700.2 kB/s eta 0:00:09\n",
      "     - -------------------------------------- 0.2/6.0 MB 787.7 kB/s eta 0:00:08\n",
      "     - -------------------------------------- 0.3/6.0 MB 842.9 kB/s eta 0:00:07\n",
      "     -- ------------------------------------- 0.3/6.0 MB 925.5 kB/s eta 0:00:07\n",
      "     -- ------------------------------------- 0.4/6.0 MB 897.8 kB/s eta 0:00:07\n",
      "     --- ------------------------------------ 0.5/6.0 MB 972.0 kB/s eta 0:00:06\n",
      "     --- ------------------------------------ 0.5/6.0 MB 934.5 kB/s eta 0:00:06\n",
      "     ---- ----------------------------------- 0.6/6.0 MB 1.1 MB/s eta 0:00:05\n",
      "     ---- ----------------------------------- 0.6/6.0 MB 1.1 MB/s eta 0:00:05\n",
      "     ----- ---------------------------------- 0.7/6.0 MB 1.2 MB/s eta 0:00:05\n",
      "     ----- ---------------------------------- 0.7/6.0 MB 1.2 MB/s eta 0:00:05\n",
      "     ------ --------------------------------- 0.9/6.0 MB 1.2 MB/s eta 0:00:05\n",
      "     ------ --------------------------------- 0.9/6.0 MB 1.2 MB/s eta 0:00:05\n",
      "     ------- -------------------------------- 1.1/6.0 MB 1.3 MB/s eta 0:00:04\n",
      "     ------- -------------------------------- 1.1/6.0 MB 1.3 MB/s eta 0:00:04\n",
      "     ------- -------------------------------- 1.2/6.0 MB 1.3 MB/s eta 0:00:04\n",
      "     -------- ------------------------------- 1.3/6.0 MB 1.3 MB/s eta 0:00:04\n",
      "     -------- ------------------------------- 1.3/6.0 MB 1.3 MB/s eta 0:00:04\n",
      "     -------- ------------------------------- 1.3/6.0 MB 1.3 MB/s eta 0:00:04\n",
      "     -------- ------------------------------- 1.3/6.0 MB 1.3 MB/s eta 0:00:04\n",
      "     --------- ------------------------------ 1.4/6.0 MB 1.3 MB/s eta 0:00:04\n",
      "     --------- ------------------------------ 1.5/6.0 MB 1.2 MB/s eta 0:00:04\n",
      "     ---------- ----------------------------- 1.6/6.0 MB 1.2 MB/s eta 0:00:04\n",
      "     ---------- ----------------------------- 1.6/6.0 MB 1.2 MB/s eta 0:00:04\n",
      "     ----------- ---------------------------- 1.8/6.0 MB 1.3 MB/s eta 0:00:04\n",
      "     ------------ --------------------------- 1.8/6.0 MB 1.3 MB/s eta 0:00:04\n",
      "     ------------ --------------------------- 1.9/6.0 MB 1.3 MB/s eta 0:00:04\n",
      "     ------------- -------------------------- 2.0/6.0 MB 1.4 MB/s eta 0:00:03\n",
      "     ------------- -------------------------- 2.0/6.0 MB 1.4 MB/s eta 0:00:03\n",
      "     -------------- ------------------------- 2.2/6.0 MB 1.4 MB/s eta 0:00:03\n",
      "     -------------- ------------------------- 2.2/6.0 MB 1.4 MB/s eta 0:00:03\n",
      "     --------------- ------------------------ 2.2/6.0 MB 1.3 MB/s eta 0:00:03\n",
      "     --------------- ------------------------ 2.2/6.0 MB 1.3 MB/s eta 0:00:03\n",
      "     ---------------- ----------------------- 2.5/6.0 MB 1.4 MB/s eta 0:00:03\n",
      "     ---------------- ----------------------- 2.5/6.0 MB 1.4 MB/s eta 0:00:03\n",
      "     ---------------- ----------------------- 2.5/6.0 MB 1.4 MB/s eta 0:00:03\n",
      "     ----------------- ---------------------- 2.6/6.0 MB 1.4 MB/s eta 0:00:03\n",
      "     ------------------ --------------------- 2.7/6.0 MB 1.4 MB/s eta 0:00:03\n",
      "     ------------------- -------------------- 2.9/6.0 MB 1.4 MB/s eta 0:00:03\n",
      "     ------------------- -------------------- 2.9/6.0 MB 1.4 MB/s eta 0:00:03\n",
      "     -------------------- ------------------- 3.0/6.0 MB 1.4 MB/s eta 0:00:03\n",
      "     -------------------- ------------------- 3.1/6.0 MB 1.5 MB/s eta 0:00:02\n",
      "     --------------------- ------------------ 3.2/6.0 MB 1.5 MB/s eta 0:00:02\n",
      "     --------------------- ------------------ 3.2/6.0 MB 1.5 MB/s eta 0:00:02\n",
      "     ---------------------- ----------------- 3.3/6.0 MB 1.4 MB/s eta 0:00:02\n",
      "     ---------------------- ----------------- 3.4/6.0 MB 1.5 MB/s eta 0:00:02\n",
      "     ---------------------- ----------------- 3.4/6.0 MB 1.5 MB/s eta 0:00:02\n",
      "     ------------------------ --------------- 3.7/6.0 MB 1.5 MB/s eta 0:00:02\n",
      "     ------------------------ --------------- 3.7/6.0 MB 1.5 MB/s eta 0:00:02\n",
      "     ------------------------ --------------- 3.7/6.0 MB 1.5 MB/s eta 0:00:02\n",
      "     ------------------------- -------------- 3.8/6.0 MB 1.5 MB/s eta 0:00:02\n",
      "     -------------------------- ------------- 3.9/6.0 MB 1.5 MB/s eta 0:00:02\n",
      "     -------------------------- ------------- 3.9/6.0 MB 1.5 MB/s eta 0:00:02\n",
      "     --------------------------- ------------ 4.1/6.0 MB 1.5 MB/s eta 0:00:02\n",
      "     --------------------------- ------------ 4.1/6.0 MB 1.5 MB/s eta 0:00:02\n",
      "     ---------------------------- ----------- 4.3/6.0 MB 1.5 MB/s eta 0:00:02\n",
      "     ----------------------------- ---------- 4.4/6.0 MB 1.5 MB/s eta 0:00:02\n",
      "     ----------------------------- ---------- 4.5/6.0 MB 1.5 MB/s eta 0:00:01\n",
      "     ------------------------------ --------- 4.5/6.0 MB 1.6 MB/s eta 0:00:01\n",
      "     ------------------------------- -------- 4.6/6.0 MB 1.6 MB/s eta 0:00:01\n",
      "     ------------------------------- -------- 4.8/6.0 MB 1.6 MB/s eta 0:00:01\n",
      "     -------------------------------- ------- 4.8/6.0 MB 1.6 MB/s eta 0:00:01\n",
      "     --------------------------------- ------ 4.9/6.0 MB 1.6 MB/s eta 0:00:01\n",
      "     --------------------------------- ------ 5.0/6.0 MB 1.6 MB/s eta 0:00:01\n",
      "     ---------------------------------- ----- 5.1/6.0 MB 1.6 MB/s eta 0:00:01\n",
      "     ---------------------------------- ----- 5.2/6.0 MB 1.6 MB/s eta 0:00:01\n",
      "     ----------------------------------- ---- 5.3/6.0 MB 1.6 MB/s eta 0:00:01\n",
      "     ------------------------------------ --- 5.4/6.0 MB 1.6 MB/s eta 0:00:01\n",
      "     ------------------------------------ --- 5.5/6.0 MB 1.6 MB/s eta 0:00:01\n",
      "     ------------------------------------- -- 5.6/6.0 MB 1.6 MB/s eta 0:00:01\n",
      "     -------------------------------------- - 5.7/6.0 MB 1.6 MB/s eta 0:00:01\n",
      "     ---------------------------------------  5.8/6.0 MB 1.7 MB/s eta 0:00:01\n",
      "     ---------------------------------------  5.9/6.0 MB 1.6 MB/s eta 0:00:01\n",
      "     ---------------------------------------- 6.0/6.0 MB 1.6 MB/s eta 0:00:00\n",
      "  Preparing metadata (setup.py): started\n",
      "  Preparing metadata (setup.py): finished with status 'done'\n",
      "Building wheels for collected packages: sqlalchemy\n",
      "  Building wheel for sqlalchemy (setup.py): started\n",
      "  Building wheel for sqlalchemy (setup.py): finished with status 'done'\n",
      "  Created wheel for sqlalchemy: filename=SQLAlchemy-1.3.9-cp311-cp311-win_amd64.whl size=1142949 sha256=9c4deb3d72e4a0762d7a0b4a6e168c56e70149e50df141fc13d513fb830d6647\n",
      "  Stored in directory: c:\\users\\huy\\appdata\\local\\pip\\cache\\wheels\\3a\\7c\\1e\\12404784a68083eb969f877a1808a1847bab897684b56ddc55\n",
      "Successfully built sqlalchemy\n",
      "Installing collected packages: sqlalchemy\n",
      "  Attempting uninstall: sqlalchemy\n",
      "    Found existing installation: SQLAlchemy 2.0.25\n",
      "    Uninstalling SQLAlchemy-2.0.25:\n",
      "      Successfully uninstalled SQLAlchemy-2.0.25\n",
      "Successfully installed sqlalchemy-1.3.9\n"
     ]
    }
   ],
   "source": [
    "!pip install sqlalchemy==1.3.9\n"
   ]
  },
  {
   "cell_type": "markdown",
   "metadata": {},
   "source": [
    "### Connect to the database\n",
    "\n",
    "Let us first load the SQL extension and establish a connection with the database\n"
   ]
  },
  {
   "cell_type": "code",
   "execution_count": 2,
   "metadata": {},
   "outputs": [
    {
     "name": "stdout",
     "output_type": "stream",
     "text": [
      "Collecting ipython-sql\n",
      "  Downloading ipython_sql-0.5.0-py3-none-any.whl.metadata (17 kB)\n",
      "Collecting prettytable (from ipython-sql)\n",
      "  Downloading prettytable-3.11.0-py3-none-any.whl.metadata (30 kB)\n",
      "Requirement already satisfied: ipython in c:\\users\\huy\\anaconda3\\lib\\site-packages (from ipython-sql) (8.20.0)\n",
      "Collecting sqlalchemy>=2.0 (from ipython-sql)\n",
      "  Downloading SQLAlchemy-2.0.32-cp311-cp311-win_amd64.whl.metadata (9.8 kB)\n",
      "Collecting sqlparse (from ipython-sql)\n",
      "  Downloading sqlparse-0.5.1-py3-none-any.whl.metadata (3.9 kB)\n",
      "Requirement already satisfied: six in c:\\users\\huy\\anaconda3\\lib\\site-packages (from ipython-sql) (1.16.0)\n",
      "Requirement already satisfied: ipython-genutils in c:\\users\\huy\\anaconda3\\lib\\site-packages (from ipython-sql) (0.2.0)\n",
      "Requirement already satisfied: typing-extensions>=4.6.0 in c:\\users\\huy\\anaconda3\\lib\\site-packages (from sqlalchemy>=2.0->ipython-sql) (4.9.0)\n",
      "Requirement already satisfied: greenlet!=0.4.17 in c:\\users\\huy\\anaconda3\\lib\\site-packages (from sqlalchemy>=2.0->ipython-sql) (3.0.1)\n",
      "Requirement already satisfied: decorator in c:\\users\\huy\\anaconda3\\lib\\site-packages (from ipython->ipython-sql) (5.1.1)\n",
      "Requirement already satisfied: jedi>=0.16 in c:\\users\\huy\\anaconda3\\lib\\site-packages (from ipython->ipython-sql) (0.18.1)\n",
      "Requirement already satisfied: matplotlib-inline in c:\\users\\huy\\anaconda3\\lib\\site-packages (from ipython->ipython-sql) (0.1.6)\n",
      "Requirement already satisfied: prompt-toolkit<3.1.0,>=3.0.41 in c:\\users\\huy\\anaconda3\\lib\\site-packages (from ipython->ipython-sql) (3.0.43)\n",
      "Requirement already satisfied: pygments>=2.4.0 in c:\\users\\huy\\anaconda3\\lib\\site-packages (from ipython->ipython-sql) (2.15.1)\n",
      "Requirement already satisfied: stack-data in c:\\users\\huy\\anaconda3\\lib\\site-packages (from ipython->ipython-sql) (0.2.0)\n",
      "Requirement already satisfied: traitlets>=5 in c:\\users\\huy\\anaconda3\\lib\\site-packages (from ipython->ipython-sql) (5.7.1)\n",
      "Requirement already satisfied: colorama in c:\\users\\huy\\anaconda3\\lib\\site-packages (from ipython->ipython-sql) (0.4.6)\n",
      "Requirement already satisfied: wcwidth in c:\\users\\huy\\anaconda3\\lib\\site-packages (from prettytable->ipython-sql) (0.2.5)\n",
      "Requirement already satisfied: parso<0.9.0,>=0.8.0 in c:\\users\\huy\\anaconda3\\lib\\site-packages (from jedi>=0.16->ipython->ipython-sql) (0.8.3)\n",
      "Requirement already satisfied: executing in c:\\users\\huy\\anaconda3\\lib\\site-packages (from stack-data->ipython->ipython-sql) (0.8.3)\n",
      "Requirement already satisfied: asttokens in c:\\users\\huy\\anaconda3\\lib\\site-packages (from stack-data->ipython->ipython-sql) (2.0.5)\n",
      "Requirement already satisfied: pure-eval in c:\\users\\huy\\anaconda3\\lib\\site-packages (from stack-data->ipython->ipython-sql) (0.2.2)\n",
      "Downloading ipython_sql-0.5.0-py3-none-any.whl (20 kB)\n",
      "Downloading SQLAlchemy-2.0.32-cp311-cp311-win_amd64.whl (2.1 MB)\n",
      "   ---------------------------------------- 0.0/2.1 MB ? eta -:--:--\n",
      "   ---------------------------------------- 0.0/2.1 MB ? eta -:--:--\n",
      "   ---------------------------------------- 0.0/2.1 MB ? eta -:--:--\n",
      "   ---------------------------------------- 0.0/2.1 MB ? eta -:--:--\n",
      "   ---------------------------------------- 0.0/2.1 MB ? eta -:--:--\n",
      "   ---------------------------------------- 0.0/2.1 MB ? eta -:--:--\n",
      "   ---------------------------------------- 0.0/2.1 MB ? eta -:--:--\n",
      "   ---------------------------------------- 0.0/2.1 MB ? eta -:--:--\n",
      "   ---------------------------------------- 0.0/2.1 MB ? eta -:--:--\n",
      "   ---------------------------------------- 0.0/2.1 MB ? eta -:--:--\n",
      "   ---------------------------------------- 0.0/2.1 MB ? eta -:--:--\n",
      "   ---------------------------------------- 0.0/2.1 MB ? eta -:--:--\n",
      "   ---------------------------------------- 0.0/2.1 MB ? eta -:--:--\n",
      "   ---------------------------------------- 0.0/2.1 MB ? eta -:--:--\n",
      "   ---------------------------------------- 0.0/2.1 MB ? eta -:--:--\n",
      "   ---------------------------------------- 0.0/2.1 MB ? eta -:--:--\n",
      "    --------------------------------------- 0.0/2.1 MB 50.4 kB/s eta 0:00:41\n",
      "    --------------------------------------- 0.0/2.1 MB 50.4 kB/s eta 0:00:41\n",
      "    --------------------------------------- 0.0/2.1 MB 50.4 kB/s eta 0:00:41\n",
      "    --------------------------------------- 0.0/2.1 MB 50.4 kB/s eta 0:00:41\n",
      "    --------------------------------------- 0.0/2.1 MB 50.4 kB/s eta 0:00:41\n",
      "    --------------------------------------- 0.0/2.1 MB 46.8 kB/s eta 0:00:44\n",
      "    --------------------------------------- 0.0/2.1 MB 46.8 kB/s eta 0:00:44\n",
      "    --------------------------------------- 0.0/2.1 MB 46.8 kB/s eta 0:00:44\n",
      "    --------------------------------------- 0.0/2.1 MB 46.8 kB/s eta 0:00:44\n",
      "    --------------------------------------- 0.0/2.1 MB 46.8 kB/s eta 0:00:44\n",
      "    --------------------------------------- 0.0/2.1 MB 46.8 kB/s eta 0:00:44\n",
      "   - -------------------------------------- 0.1/2.1 MB 56.5 kB/s eta 0:00:36\n",
      "   - -------------------------------------- 0.1/2.1 MB 56.5 kB/s eta 0:00:36\n",
      "   - -------------------------------------- 0.1/2.1 MB 56.5 kB/s eta 0:00:36\n",
      "   - -------------------------------------- 0.1/2.1 MB 56.5 kB/s eta 0:00:36\n",
      "   - -------------------------------------- 0.1/2.1 MB 56.5 kB/s eta 0:00:36\n",
      "   - -------------------------------------- 0.1/2.1 MB 56.5 kB/s eta 0:00:36\n",
      "   - -------------------------------------- 0.1/2.1 MB 56.5 kB/s eta 0:00:36\n",
      "   - -------------------------------------- 0.1/2.1 MB 49.8 kB/s eta 0:00:41\n",
      "   - -------------------------------------- 0.1/2.1 MB 49.8 kB/s eta 0:00:41\n",
      "   - -------------------------------------- 0.1/2.1 MB 49.8 kB/s eta 0:00:41\n",
      "   - -------------------------------------- 0.1/2.1 MB 49.8 kB/s eta 0:00:41\n",
      "   - -------------------------------------- 0.1/2.1 MB 49.8 kB/s eta 0:00:41\n",
      "   - -------------------------------------- 0.1/2.1 MB 55.8 kB/s eta 0:00:36\n",
      "   - -------------------------------------- 0.1/2.1 MB 55.8 kB/s eta 0:00:36\n",
      "   - -------------------------------------- 0.1/2.1 MB 55.8 kB/s eta 0:00:36\n",
      "   - -------------------------------------- 0.1/2.1 MB 55.8 kB/s eta 0:00:36\n",
      "   - -------------------------------------- 0.1/2.1 MB 55.8 kB/s eta 0:00:36\n",
      "   - -------------------------------------- 0.1/2.1 MB 55.8 kB/s eta 0:00:36\n",
      "   - -------------------------------------- 0.1/2.1 MB 55.8 kB/s eta 0:00:36\n",
      "   - -------------------------------------- 0.1/2.1 MB 50.4 kB/s eta 0:00:40\n",
      "   - -------------------------------------- 0.1/2.1 MB 50.4 kB/s eta 0:00:40\n",
      "   - -------------------------------------- 0.1/2.1 MB 50.4 kB/s eta 0:00:40\n",
      "   - -------------------------------------- 0.1/2.1 MB 50.4 kB/s eta 0:00:40\n",
      "   - -------------------------------------- 0.1/2.1 MB 50.4 kB/s eta 0:00:40\n",
      "   - -------------------------------------- 0.1/2.1 MB 50.4 kB/s eta 0:00:40\n",
      "   -- ------------------------------------- 0.1/2.1 MB 54.2 kB/s eta 0:00:37\n",
      "   -- ------------------------------------- 0.1/2.1 MB 54.2 kB/s eta 0:00:37\n",
      "   -- ------------------------------------- 0.1/2.1 MB 54.2 kB/s eta 0:00:37\n",
      "   -- ------------------------------------- 0.1/2.1 MB 54.2 kB/s eta 0:00:37\n",
      "   -- ------------------------------------- 0.1/2.1 MB 54.2 kB/s eta 0:00:37\n",
      "   -- ------------------------------------- 0.1/2.1 MB 52.8 kB/s eta 0:00:37\n",
      "   -- ------------------------------------- 0.1/2.1 MB 52.8 kB/s eta 0:00:37\n",
      "   -- ------------------------------------- 0.1/2.1 MB 52.8 kB/s eta 0:00:37\n",
      "   -- ------------------------------------- 0.1/2.1 MB 52.8 kB/s eta 0:00:37\n",
      "   -- ------------------------------------- 0.1/2.1 MB 52.8 kB/s eta 0:00:37\n",
      "   -- ------------------------------------- 0.1/2.1 MB 52.8 kB/s eta 0:00:37\n",
      "   -- ------------------------------------- 0.1/2.1 MB 52.8 kB/s eta 0:00:37\n",
      "   -- ------------------------------------- 0.2/2.1 MB 54.0 kB/s eta 0:00:36\n",
      "   -- ------------------------------------- 0.2/2.1 MB 54.0 kB/s eta 0:00:36\n",
      "   -- ------------------------------------- 0.2/2.1 MB 54.0 kB/s eta 0:00:36\n",
      "   -- ------------------------------------- 0.2/2.1 MB 54.0 kB/s eta 0:00:36\n",
      "   -- ------------------------------------- 0.2/2.1 MB 54.0 kB/s eta 0:00:36\n",
      "   --- ------------------------------------ 0.2/2.1 MB 56.7 kB/s eta 0:00:34\n",
      "   --- ------------------------------------ 0.2/2.1 MB 56.7 kB/s eta 0:00:34\n",
      "   --- ------------------------------------ 0.2/2.1 MB 56.7 kB/s eta 0:00:34\n",
      "   --- ------------------------------------ 0.2/2.1 MB 56.7 kB/s eta 0:00:34\n",
      "   --- ------------------------------------ 0.2/2.1 MB 56.7 kB/s eta 0:00:34\n",
      "   --- ------------------------------------ 0.2/2.1 MB 56.3 kB/s eta 0:00:34\n",
      "   --- ------------------------------------ 0.2/2.1 MB 56.3 kB/s eta 0:00:34\n",
      "   --- ------------------------------------ 0.2/2.1 MB 56.3 kB/s eta 0:00:34\n",
      "   --- ------------------------------------ 0.2/2.1 MB 56.3 kB/s eta 0:00:34\n",
      "   --- ------------------------------------ 0.2/2.1 MB 58.7 kB/s eta 0:00:33\n",
      "   --- ------------------------------------ 0.2/2.1 MB 58.7 kB/s eta 0:00:33\n",
      "   --- ------------------------------------ 0.2/2.1 MB 58.7 kB/s eta 0:00:33\n",
      "   --- ------------------------------------ 0.2/2.1 MB 58.7 kB/s eta 0:00:33\n",
      "   --- ------------------------------------ 0.2/2.1 MB 58.7 kB/s eta 0:00:33\n",
      "   ---- ----------------------------------- 0.2/2.1 MB 58.2 kB/s eta 0:00:33\n",
      "   ---- ----------------------------------- 0.2/2.1 MB 58.2 kB/s eta 0:00:33\n",
      "   ---- ----------------------------------- 0.2/2.1 MB 58.2 kB/s eta 0:00:33\n",
      "   ---- ----------------------------------- 0.2/2.1 MB 58.2 kB/s eta 0:00:33\n",
      "   ---- ----------------------------------- 0.2/2.1 MB 60.8 kB/s eta 0:00:31\n",
      "   ---- ----------------------------------- 0.2/2.1 MB 60.8 kB/s eta 0:00:31\n",
      "   ---- ----------------------------------- 0.2/2.1 MB 60.8 kB/s eta 0:00:31\n",
      "   ---- ----------------------------------- 0.2/2.1 MB 60.8 kB/s eta 0:00:31\n",
      "   ---- ----------------------------------- 0.3/2.1 MB 63.2 kB/s eta 0:00:29\n",
      "   ---- ----------------------------------- 0.3/2.1 MB 63.2 kB/s eta 0:00:29\n",
      "   ---- ----------------------------------- 0.3/2.1 MB 63.2 kB/s eta 0:00:29\n",
      "   ---- ----------------------------------- 0.3/2.1 MB 63.2 kB/s eta 0:00:29\n",
      "   ----- ---------------------------------- 0.3/2.1 MB 62.8 kB/s eta 0:00:29\n",
      "   ----- ---------------------------------- 0.3/2.1 MB 62.8 kB/s eta 0:00:29\n",
      "   ----- ---------------------------------- 0.3/2.1 MB 62.8 kB/s eta 0:00:29\n",
      "   ----- ---------------------------------- 0.3/2.1 MB 65.3 kB/s eta 0:00:28\n",
      "   ----- ---------------------------------- 0.3/2.1 MB 65.3 kB/s eta 0:00:28\n",
      "   ----- ---------------------------------- 0.3/2.1 MB 65.3 kB/s eta 0:00:28\n",
      "   ----- ---------------------------------- 0.3/2.1 MB 65.3 kB/s eta 0:00:28\n",
      "   ----- ---------------------------------- 0.3/2.1 MB 65.1 kB/s eta 0:00:28\n",
      "   ----- ---------------------------------- 0.3/2.1 MB 65.1 kB/s eta 0:00:28\n",
      "   ----- ---------------------------------- 0.3/2.1 MB 65.1 kB/s eta 0:00:28\n",
      "   ------ --------------------------------- 0.3/2.1 MB 67.6 kB/s eta 0:00:27\n",
      "   ------ --------------------------------- 0.3/2.1 MB 67.6 kB/s eta 0:00:27\n",
      "   ------ --------------------------------- 0.3/2.1 MB 67.6 kB/s eta 0:00:27\n",
      "   ------ --------------------------------- 0.3/2.1 MB 67.6 kB/s eta 0:00:27\n",
      "   ------ --------------------------------- 0.3/2.1 MB 69.4 kB/s eta 0:00:26\n",
      "   ------ --------------------------------- 0.3/2.1 MB 69.4 kB/s eta 0:00:26\n",
      "   ------ --------------------------------- 0.3/2.1 MB 70.0 kB/s eta 0:00:25\n",
      "   ------ --------------------------------- 0.3/2.1 MB 70.0 kB/s eta 0:00:25\n",
      "   ------ --------------------------------- 0.3/2.1 MB 70.0 kB/s eta 0:00:25\n",
      "   ------ --------------------------------- 0.3/2.1 MB 70.0 kB/s eta 0:00:25\n",
      "   ------- -------------------------------- 0.4/2.1 MB 71.7 kB/s eta 0:00:24\n",
      "   ------- -------------------------------- 0.4/2.1 MB 71.7 kB/s eta 0:00:24\n",
      "   ------- -------------------------------- 0.4/2.1 MB 72.4 kB/s eta 0:00:24\n",
      "   ------- -------------------------------- 0.4/2.1 MB 72.4 kB/s eta 0:00:24\n",
      "   ------- -------------------------------- 0.4/2.1 MB 74.6 kB/s eta 0:00:23\n",
      "   ------- -------------------------------- 0.4/2.1 MB 74.6 kB/s eta 0:00:23\n",
      "   -------- ------------------------------- 0.4/2.1 MB 77.1 kB/s eta 0:00:22\n",
      "   -------- ------------------------------- 0.4/2.1 MB 77.1 kB/s eta 0:00:22\n",
      "   -------- ------------------------------- 0.4/2.1 MB 77.7 kB/s eta 0:00:22\n",
      "   -------- ------------------------------- 0.4/2.1 MB 77.7 kB/s eta 0:00:22\n",
      "   -------- ------------------------------- 0.4/2.1 MB 77.7 kB/s eta 0:00:22\n",
      "   -------- ------------------------------- 0.5/2.1 MB 79.8 kB/s eta 0:00:21\n",
      "   -------- ------------------------------- 0.5/2.1 MB 79.8 kB/s eta 0:00:21\n",
      "   -------- ------------------------------- 0.5/2.1 MB 80.3 kB/s eta 0:00:21\n",
      "   -------- ------------------------------- 0.5/2.1 MB 80.3 kB/s eta 0:00:21\n",
      "   --------- ------------------------------ 0.5/2.1 MB 82.4 kB/s eta 0:00:20\n",
      "   --------- ------------------------------ 0.5/2.1 MB 85.7 kB/s eta 0:00:19\n",
      "   --------- ------------------------------ 0.5/2.1 MB 85.7 kB/s eta 0:00:19\n",
      "   --------- ------------------------------ 0.5/2.1 MB 85.9 kB/s eta 0:00:19\n",
      "   --------- ------------------------------ 0.5/2.1 MB 85.9 kB/s eta 0:00:19\n",
      "   ---------- ----------------------------- 0.5/2.1 MB 87.9 kB/s eta 0:00:18\n",
      "   ---------- ----------------------------- 0.5/2.1 MB 89.0 kB/s eta 0:00:18\n",
      "   ---------- ----------------------------- 0.6/2.1 MB 91.7 kB/s eta 0:00:17\n",
      "   ---------- ----------------------------- 0.6/2.1 MB 91.7 kB/s eta 0:00:17\n",
      "   ----------- ---------------------------- 0.6/2.1 MB 93.4 kB/s eta 0:00:17\n",
      "   ----------- ---------------------------- 0.6/2.1 MB 94.6 kB/s eta 0:00:16\n",
      "   ----------- ---------------------------- 0.6/2.1 MB 94.6 kB/s eta 0:00:16\n",
      "   ----------- ---------------------------- 0.6/2.1 MB 96.4 kB/s eta 0:00:16\n",
      "   ----------- ---------------------------- 0.6/2.1 MB 97.1 kB/s eta 0:00:16\n",
      "   ------------ --------------------------- 0.6/2.1 MB 99.8 kB/s eta 0:00:15\n",
      "   ------------ --------------------------- 0.7/2.1 MB 101.8 kB/s eta 0:00:14\n",
      "   ------------ --------------------------- 0.7/2.1 MB 103.1 kB/s eta 0:00:14\n",
      "   ------------ --------------------------- 0.7/2.1 MB 103.1 kB/s eta 0:00:14\n",
      "   ------------- -------------------------- 0.7/2.1 MB 106.1 kB/s eta 0:00:13\n",
      "   ------------- -------------------------- 0.7/2.1 MB 106.1 kB/s eta 0:00:13\n",
      "   -------------- ------------------------- 0.7/2.1 MB 109.5 kB/s eta 0:00:13\n",
      "   -------------- ------------------------- 0.7/2.1 MB 110.5 kB/s eta 0:00:13\n",
      "   -------------- ------------------------- 0.8/2.1 MB 112.5 kB/s eta 0:00:12\n",
      "   --------------- ------------------------ 0.8/2.1 MB 116.0 kB/s eta 0:00:12\n",
      "   --------------- ------------------------ 0.8/2.1 MB 116.0 kB/s eta 0:00:12\n",
      "   --------------- ------------------------ 0.8/2.1 MB 117.4 kB/s eta 0:00:11\n",
      "   --------------- ------------------------ 0.8/2.1 MB 118.1 kB/s eta 0:00:11\n",
      "   ---------------- ----------------------- 0.8/2.1 MB 120.5 kB/s eta 0:00:11\n",
      "   ---------------- ----------------------- 0.9/2.1 MB 121.4 kB/s eta 0:00:11\n",
      "   ---------------- ----------------------- 0.9/2.1 MB 123.5 kB/s eta 0:00:10\n",
      "   ----------------- ---------------------- 0.9/2.1 MB 125.6 kB/s eta 0:00:10\n",
      "   ----------------- ---------------------- 0.9/2.1 MB 128.5 kB/s eta 0:00:09\n",
      "   ------------------ --------------------- 0.9/2.1 MB 129.4 kB/s eta 0:00:09\n",
      "   ------------------ --------------------- 1.0/2.1 MB 133.6 kB/s eta 0:00:09\n",
      "   ------------------- -------------------- 1.0/2.1 MB 134.4 kB/s eta 0:00:09\n",
      "   ------------------- -------------------- 1.0/2.1 MB 136.4 kB/s eta 0:00:08\n",
      "   ------------------- -------------------- 1.0/2.1 MB 137.2 kB/s eta 0:00:08\n",
      "   -------------------- ------------------- 1.0/2.1 MB 138.8 kB/s eta 0:00:08\n",
      "   -------------------- ------------------- 1.1/2.1 MB 142.0 kB/s eta 0:00:08\n",
      "   --------------------- ------------------ 1.1/2.1 MB 143.8 kB/s eta 0:00:07\n",
      "   --------------------- ------------------ 1.1/2.1 MB 147.0 kB/s eta 0:00:07\n",
      "   ---------------------- ----------------- 1.1/2.1 MB 149.1 kB/s eta 0:00:07\n",
      "   ---------------------- ----------------- 1.2/2.1 MB 151.8 kB/s eta 0:00:06\n",
      "   ---------------------- ----------------- 1.2/2.1 MB 152.9 kB/s eta 0:00:06\n",
      "   ----------------------- ---------------- 1.2/2.1 MB 156.9 kB/s eta 0:00:06\n",
      "   ------------------------ --------------- 1.3/2.1 MB 159.9 kB/s eta 0:00:06\n",
      "   ------------------------ --------------- 1.3/2.1 MB 162.5 kB/s eta 0:00:05\n",
      "   ------------------------- -------------- 1.3/2.1 MB 165.5 kB/s eta 0:00:05\n",
      "   ------------------------- -------------- 1.3/2.1 MB 167.0 kB/s eta 0:00:05\n",
      "   -------------------------- ------------- 1.4/2.1 MB 169.9 kB/s eta 0:00:05\n",
      "   -------------------------- ------------- 1.4/2.1 MB 172.7 kB/s eta 0:00:04\n",
      "   --------------------------- ------------ 1.4/2.1 MB 175.5 kB/s eta 0:00:04\n",
      "   --------------------------- ------------ 1.5/2.1 MB 177.7 kB/s eta 0:00:04\n",
      "   ---------------------------- ----------- 1.5/2.1 MB 179.8 kB/s eta 0:00:04\n",
      "   ----------------------------- ---------- 1.5/2.1 MB 182.5 kB/s eta 0:00:04\n",
      "   ----------------------------- ---------- 1.6/2.1 MB 186.4 kB/s eta 0:00:03\n",
      "   ------------------------------ --------- 1.6/2.1 MB 189.0 kB/s eta 0:00:03\n",
      "   ------------------------------- -------- 1.6/2.1 MB 192.0 kB/s eta 0:00:03\n",
      "   ------------------------------- -------- 1.6/2.1 MB 193.0 kB/s eta 0:00:03\n",
      "   -------------------------------- ------- 1.7/2.1 MB 195.9 kB/s eta 0:00:03\n",
      "   -------------------------------- ------- 1.7/2.1 MB 198.4 kB/s eta 0:00:02\n",
      "   --------------------------------- ------ 1.7/2.1 MB 200.5 kB/s eta 0:00:02\n",
      "   --------------------------------- ------ 1.8/2.1 MB 203.8 kB/s eta 0:00:02\n",
      "   ---------------------------------- ----- 1.8/2.1 MB 207.4 kB/s eta 0:00:02\n",
      "   ---------------------------------- ----- 1.8/2.1 MB 207.8 kB/s eta 0:00:02\n",
      "   ----------------------------------- ---- 1.8/2.1 MB 209.9 kB/s eta 0:00:02\n",
      "   ------------------------------------ --- 1.9/2.1 MB 214.2 kB/s eta 0:00:01\n",
      "   ------------------------------------ --- 1.9/2.1 MB 216.5 kB/s eta 0:00:01\n",
      "   -------------------------------------- - 2.0/2.1 MB 223.1 kB/s eta 0:00:01\n",
      "   ---------------------------------------  2.0/2.1 MB 228.0 kB/s eta 0:00:01\n",
      "   ---------------------------------------  2.1/2.1 MB 228.7 kB/s eta 0:00:01\n",
      "   ---------------------------------------- 2.1/2.1 MB 230.1 kB/s eta 0:00:00\n",
      "Downloading prettytable-3.11.0-py3-none-any.whl (28 kB)\n",
      "Downloading sqlparse-0.5.1-py3-none-any.whl (44 kB)\n",
      "   ---------------------------------------- 0.0/44.2 kB ? eta -:--:--\n",
      "   --------------------------- ------------ 30.7/44.2 kB 1.3 MB/s eta 0:00:01\n",
      "   ---------------------------------------- 44.2/44.2 kB 547.0 kB/s eta 0:00:00\n",
      "Installing collected packages: sqlparse, sqlalchemy, prettytable, ipython-sql\n",
      "  Attempting uninstall: sqlalchemy\n",
      "    Found existing installation: SQLAlchemy 1.3.9\n",
      "    Uninstalling SQLAlchemy-1.3.9:\n",
      "      Successfully uninstalled SQLAlchemy-1.3.9\n",
      "Successfully installed ipython-sql-0.5.0 prettytable-3.11.0 sqlalchemy-2.0.32 sqlparse-0.5.1\n"
     ]
    }
   ],
   "source": [
    "!pip install ipython-sql"
   ]
  },
  {
   "cell_type": "code",
   "execution_count": 3,
   "metadata": {},
   "outputs": [],
   "source": [
    "%load_ext sql"
   ]
  },
  {
   "cell_type": "code",
   "execution_count": 4,
   "metadata": {},
   "outputs": [],
   "source": [
    "import csv, sqlite3\n",
    "\n",
    "con = sqlite3.connect(\"my_data1.db\")\n",
    "cur = con.cursor()"
   ]
  },
  {
   "cell_type": "code",
   "execution_count": 5,
   "metadata": {},
   "outputs": [],
   "source": [
    "!pip install -q pandas"
   ]
  },
  {
   "cell_type": "code",
   "execution_count": 6,
   "metadata": {},
   "outputs": [],
   "source": [
    "%sql sqlite:///my_data1.db"
   ]
  },
  {
   "cell_type": "code",
   "execution_count": 7,
   "metadata": {},
   "outputs": [
    {
     "data": {
      "text/plain": [
       "101"
      ]
     },
     "execution_count": 7,
     "metadata": {},
     "output_type": "execute_result"
    }
   ],
   "source": [
    "import pandas as pd\n",
    "df = pd.read_csv(\"https://cf-courses-data.s3.us.cloud-object-storage.appdomain.cloud/IBM-DS0321EN-SkillsNetwork/labs/module_2/data/Spacex.csv\")\n",
    "df.to_sql(\"SPACEXTBL\", con, if_exists='replace', index=False,method=\"multi\")"
   ]
  },
  {
   "cell_type": "markdown",
   "metadata": {},
   "source": [
    "**Note:This below code is added to remove blank rows from table**\n"
   ]
  },
  {
   "cell_type": "code",
   "execution_count": 8,
   "metadata": {},
   "outputs": [
    {
     "name": "stdout",
     "output_type": "stream",
     "text": [
      " * sqlite:///my_data1.db\n",
      "Done.\n"
     ]
    },
    {
     "data": {
      "text/plain": [
       "[]"
      ]
     },
     "execution_count": 8,
     "metadata": {},
     "output_type": "execute_result"
    }
   ],
   "source": [
    "#DROP THE TABLE IF EXISTS\n",
    "\n",
    "%sql DROP TABLE IF EXISTS SPACEXTABLE;"
   ]
  },
  {
   "cell_type": "code",
   "execution_count": 9,
   "metadata": {},
   "outputs": [
    {
     "name": "stdout",
     "output_type": "stream",
     "text": [
      " * sqlite:///my_data1.db\n",
      "Done.\n"
     ]
    },
    {
     "data": {
      "text/plain": [
       "[]"
      ]
     },
     "execution_count": 9,
     "metadata": {},
     "output_type": "execute_result"
    }
   ],
   "source": [
    "%sql create table SPACEXTABLE as select * from SPACEXTBL where Date is not null"
   ]
  },
  {
   "cell_type": "markdown",
   "metadata": {},
   "source": [
    "## Tasks\n",
    "\n",
    "Now write and execute SQL queries to solve the assignment tasks.\n",
    "\n",
    "**Note: If the column names are in mixed case enclose it in double quotes\n",
    "   For Example \"Landing_Outcome\"**\n",
    "\n",
    "### Task 1\n",
    "\n",
    "\n",
    "\n",
    "\n",
    "##### Display the names of the unique launch sites  in the space mission\n"
   ]
  },
  {
   "cell_type": "code",
   "execution_count": 12,
   "metadata": {},
   "outputs": [
    {
     "name": "stdout",
     "output_type": "stream",
     "text": [
      " * sqlite:///my_data1.db\n",
      "Done.\n"
     ]
    },
    {
     "data": {
      "text/html": [
       "<table>\n",
       "    <thead>\n",
       "        <tr>\n",
       "            <th>Launch_Sites</th>\n",
       "        </tr>\n",
       "    </thead>\n",
       "    <tbody>\n",
       "        <tr>\n",
       "            <td>CCAFS LC-40</td>\n",
       "        </tr>\n",
       "        <tr>\n",
       "            <td>VAFB SLC-4E</td>\n",
       "        </tr>\n",
       "        <tr>\n",
       "            <td>KSC LC-39A</td>\n",
       "        </tr>\n",
       "        <tr>\n",
       "            <td>CCAFS SLC-40</td>\n",
       "        </tr>\n",
       "    </tbody>\n",
       "</table>"
      ],
      "text/plain": [
       "[('CCAFS LC-40',), ('VAFB SLC-4E',), ('KSC LC-39A',), ('CCAFS SLC-40',)]"
      ]
     },
     "execution_count": 12,
     "metadata": {},
     "output_type": "execute_result"
    }
   ],
   "source": [
    "%sql SELECT DISTINCT LAUNCH_SITE as \"Launch_Sites\" FROM SPACEXTBL;"
   ]
  },
  {
   "cell_type": "markdown",
   "metadata": {},
   "source": [
    "\n",
    "### Task 2\n",
    "\n",
    "\n",
    "#####  Display 5 records where launch sites begin with the string 'CCA' \n"
   ]
  },
  {
   "cell_type": "code",
   "execution_count": 13,
   "metadata": {},
   "outputs": [
    {
     "name": "stdout",
     "output_type": "stream",
     "text": [
      " * sqlite:///my_data1.db\n",
      "Done.\n"
     ]
    },
    {
     "data": {
      "text/html": [
       "<table>\n",
       "    <thead>\n",
       "        <tr>\n",
       "            <th>Date</th>\n",
       "            <th>Time (UTC)</th>\n",
       "            <th>Booster_Version</th>\n",
       "            <th>Launch_Site</th>\n",
       "            <th>Payload</th>\n",
       "            <th>PAYLOAD_MASS__KG_</th>\n",
       "            <th>Orbit</th>\n",
       "            <th>Customer</th>\n",
       "            <th>Mission_Outcome</th>\n",
       "            <th>Landing_Outcome</th>\n",
       "        </tr>\n",
       "    </thead>\n",
       "    <tbody>\n",
       "        <tr>\n",
       "            <td>2010-06-04</td>\n",
       "            <td>18:45:00</td>\n",
       "            <td>F9 v1.0  B0003</td>\n",
       "            <td>CCAFS LC-40</td>\n",
       "            <td>Dragon Spacecraft Qualification Unit</td>\n",
       "            <td>0</td>\n",
       "            <td>LEO</td>\n",
       "            <td>SpaceX</td>\n",
       "            <td>Success</td>\n",
       "            <td>Failure (parachute)</td>\n",
       "        </tr>\n",
       "        <tr>\n",
       "            <td>2010-12-08</td>\n",
       "            <td>15:43:00</td>\n",
       "            <td>F9 v1.0  B0004</td>\n",
       "            <td>CCAFS LC-40</td>\n",
       "            <td>Dragon demo flight C1, two CubeSats, barrel of Brouere cheese</td>\n",
       "            <td>0</td>\n",
       "            <td>LEO (ISS)</td>\n",
       "            <td>NASA (COTS) NRO</td>\n",
       "            <td>Success</td>\n",
       "            <td>Failure (parachute)</td>\n",
       "        </tr>\n",
       "        <tr>\n",
       "            <td>2012-05-22</td>\n",
       "            <td>7:44:00</td>\n",
       "            <td>F9 v1.0  B0005</td>\n",
       "            <td>CCAFS LC-40</td>\n",
       "            <td>Dragon demo flight C2</td>\n",
       "            <td>525</td>\n",
       "            <td>LEO (ISS)</td>\n",
       "            <td>NASA (COTS)</td>\n",
       "            <td>Success</td>\n",
       "            <td>No attempt</td>\n",
       "        </tr>\n",
       "        <tr>\n",
       "            <td>2012-10-08</td>\n",
       "            <td>0:35:00</td>\n",
       "            <td>F9 v1.0  B0006</td>\n",
       "            <td>CCAFS LC-40</td>\n",
       "            <td>SpaceX CRS-1</td>\n",
       "            <td>500</td>\n",
       "            <td>LEO (ISS)</td>\n",
       "            <td>NASA (CRS)</td>\n",
       "            <td>Success</td>\n",
       "            <td>No attempt</td>\n",
       "        </tr>\n",
       "        <tr>\n",
       "            <td>2013-03-01</td>\n",
       "            <td>15:10:00</td>\n",
       "            <td>F9 v1.0  B0007</td>\n",
       "            <td>CCAFS LC-40</td>\n",
       "            <td>SpaceX CRS-2</td>\n",
       "            <td>677</td>\n",
       "            <td>LEO (ISS)</td>\n",
       "            <td>NASA (CRS)</td>\n",
       "            <td>Success</td>\n",
       "            <td>No attempt</td>\n",
       "        </tr>\n",
       "    </tbody>\n",
       "</table>"
      ],
      "text/plain": [
       "[('2010-06-04', '18:45:00', 'F9 v1.0  B0003', 'CCAFS LC-40', 'Dragon Spacecraft Qualification Unit', 0, 'LEO', 'SpaceX', 'Success', 'Failure (parachute)'),\n",
       " ('2010-12-08', '15:43:00', 'F9 v1.0  B0004', 'CCAFS LC-40', 'Dragon demo flight C1, two CubeSats, barrel of Brouere cheese', 0, 'LEO (ISS)', 'NASA (COTS) NRO', 'Success', 'Failure (parachute)'),\n",
       " ('2012-05-22', '7:44:00', 'F9 v1.0  B0005', 'CCAFS LC-40', 'Dragon demo flight C2', 525, 'LEO (ISS)', 'NASA (COTS)', 'Success', 'No attempt'),\n",
       " ('2012-10-08', '0:35:00', 'F9 v1.0  B0006', 'CCAFS LC-40', 'SpaceX CRS-1', 500, 'LEO (ISS)', 'NASA (CRS)', 'Success', 'No attempt'),\n",
       " ('2013-03-01', '15:10:00', 'F9 v1.0  B0007', 'CCAFS LC-40', 'SpaceX CRS-2', 677, 'LEO (ISS)', 'NASA (CRS)', 'Success', 'No attempt')]"
      ]
     },
     "execution_count": 13,
     "metadata": {},
     "output_type": "execute_result"
    }
   ],
   "source": [
    "%sql SELECT * FROM SPACEXTBL WHERE LAUNCH_SITE LIKE 'CCA%' LIMIT 5; "
   ]
  },
  {
   "cell_type": "markdown",
   "metadata": {},
   "source": [
    "### Task 3\n",
    "\n",
    "\n",
    "\n",
    "\n",
    "##### Display the total payload mass carried by boosters launched by NASA (CRS)\n"
   ]
  },
  {
   "cell_type": "code",
   "execution_count": 14,
   "metadata": {},
   "outputs": [
    {
     "name": "stdout",
     "output_type": "stream",
     "text": [
      " * sqlite:///my_data1.db\n",
      "Done.\n"
     ]
    },
    {
     "data": {
      "text/html": [
       "<table>\n",
       "    <thead>\n",
       "        <tr>\n",
       "            <th>Total payload mass</th>\n",
       "        </tr>\n",
       "    </thead>\n",
       "    <tbody>\n",
       "        <tr>\n",
       "            <td>45596</td>\n",
       "        </tr>\n",
       "    </tbody>\n",
       "</table>"
      ],
      "text/plain": [
       "[(45596,)]"
      ]
     },
     "execution_count": 14,
     "metadata": {},
     "output_type": "execute_result"
    }
   ],
   "source": [
    "%sql SELECT SUM(PAYLOAD_MASS__KG_) AS 'Total payload mass' FROM SPACEXTBL WHERE Customer = 'NASA (CRS)';"
   ]
  },
  {
   "cell_type": "markdown",
   "metadata": {},
   "source": [
    "### Task 4\n",
    "\n",
    "\n",
    "\n",
    "\n",
    "##### Display average payload mass carried by booster version F9 v1.1\n"
   ]
  },
  {
   "cell_type": "code",
   "execution_count": 16,
   "metadata": {},
   "outputs": [
    {
     "name": "stdout",
     "output_type": "stream",
     "text": [
      " * sqlite:///my_data1.db\n",
      "Done.\n"
     ]
    },
    {
     "data": {
      "text/html": [
       "<table>\n",
       "    <thead>\n",
       "        <tr>\n",
       "            <th>Average payload mass</th>\n",
       "        </tr>\n",
       "    </thead>\n",
       "    <tbody>\n",
       "        <tr>\n",
       "            <td>2534.6666666666665</td>\n",
       "        </tr>\n",
       "    </tbody>\n",
       "</table>"
      ],
      "text/plain": [
       "[(2534.6666666666665,)]"
      ]
     },
     "execution_count": 16,
     "metadata": {},
     "output_type": "execute_result"
    }
   ],
   "source": [
    "%sql SELECT AVG(PAYLOAD_MASS__KG_) AS 'Average payload mass' FROM SPACEXTBL WHERE Booster_Version LIKE 'F9 v1.1%';"
   ]
  },
  {
   "cell_type": "markdown",
   "metadata": {},
   "source": [
    "### Task 5\n",
    "\n",
    "##### List the date when the first succesful landing outcome in ground pad was acheived.\n",
    "\n",
    "\n",
    "_Hint:Use min function_ \n"
   ]
  },
  {
   "cell_type": "code",
   "execution_count": 23,
   "metadata": {},
   "outputs": [
    {
     "name": "stdout",
     "output_type": "stream",
     "text": [
      " * sqlite:///my_data1.db\n",
      "Done.\n"
     ]
    },
    {
     "data": {
      "text/html": [
       "<table>\n",
       "    <thead>\n",
       "        <tr>\n",
       "            <th>MIN(Date)</th>\n",
       "        </tr>\n",
       "    </thead>\n",
       "    <tbody>\n",
       "        <tr>\n",
       "            <td>2015-12-22</td>\n",
       "        </tr>\n",
       "    </tbody>\n",
       "</table>"
      ],
      "text/plain": [
       "[('2015-12-22',)]"
      ]
     },
     "execution_count": 23,
     "metadata": {},
     "output_type": "execute_result"
    }
   ],
   "source": [
    "%sql SELECT MIN(Date) FROM SPACEXTBL WHERE Landing_Outcome = 'Success (ground pad)';"
   ]
  },
  {
   "cell_type": "markdown",
   "metadata": {},
   "source": [
    "### Task 6\n",
    "\n",
    "##### List the names of the boosters which have success in drone ship and have payload mass greater than 4000 but less than 6000\n"
   ]
  },
  {
   "cell_type": "code",
   "execution_count": 24,
   "metadata": {},
   "outputs": [
    {
     "name": "stdout",
     "output_type": "stream",
     "text": [
      " * sqlite:///my_data1.db\n",
      "Done.\n"
     ]
    },
    {
     "data": {
      "text/html": [
       "<table>\n",
       "    <thead>\n",
       "        <tr>\n",
       "            <th>Booster_Version</th>\n",
       "        </tr>\n",
       "    </thead>\n",
       "    <tbody>\n",
       "        <tr>\n",
       "            <td>F9 FT B1022</td>\n",
       "        </tr>\n",
       "        <tr>\n",
       "            <td>F9 FT B1026</td>\n",
       "        </tr>\n",
       "        <tr>\n",
       "            <td>F9 FT  B1021.2</td>\n",
       "        </tr>\n",
       "        <tr>\n",
       "            <td>F9 FT  B1031.2</td>\n",
       "        </tr>\n",
       "    </tbody>\n",
       "</table>"
      ],
      "text/plain": [
       "[('F9 FT B1022',), ('F9 FT B1026',), ('F9 FT  B1021.2',), ('F9 FT  B1031.2',)]"
      ]
     },
     "execution_count": 24,
     "metadata": {},
     "output_type": "execute_result"
    }
   ],
   "source": [
    "%sql SELECT DISTINCT Booster_Version FROM SPACEXTBL WHERE Landing_Outcome = 'Success (drone ship)' AND PAYLOAD_MASS__KG_ > 4000 AND PAYLOAD_MASS__KG_ < 6000;"
   ]
  },
  {
   "cell_type": "markdown",
   "metadata": {},
   "source": [
    "### Task 7\n",
    "\n",
    "\n",
    "\n",
    "\n",
    "##### List the total number of successful and failure mission outcomes\n"
   ]
  },
  {
   "cell_type": "code",
   "execution_count": 26,
   "metadata": {},
   "outputs": [
    {
     "name": "stdout",
     "output_type": "stream",
     "text": [
      " * sqlite:///my_data1.db\n",
      "Done.\n"
     ]
    },
    {
     "data": {
      "text/html": [
       "<table>\n",
       "    <thead>\n",
       "        <tr>\n",
       "            <th>Mission_Outcome</th>\n",
       "            <th>Total</th>\n",
       "        </tr>\n",
       "    </thead>\n",
       "    <tbody>\n",
       "        <tr>\n",
       "            <td>Failure (in flight)</td>\n",
       "            <td>1</td>\n",
       "        </tr>\n",
       "        <tr>\n",
       "            <td>Success</td>\n",
       "            <td>98</td>\n",
       "        </tr>\n",
       "        <tr>\n",
       "            <td>Success </td>\n",
       "            <td>1</td>\n",
       "        </tr>\n",
       "        <tr>\n",
       "            <td>Success (payload status unclear)</td>\n",
       "            <td>1</td>\n",
       "        </tr>\n",
       "    </tbody>\n",
       "</table>"
      ],
      "text/plain": [
       "[('Failure (in flight)', 1),\n",
       " ('Success', 98),\n",
       " ('Success ', 1),\n",
       " ('Success (payload status unclear)', 1)]"
      ]
     },
     "execution_count": 26,
     "metadata": {},
     "output_type": "execute_result"
    }
   ],
   "source": [
    "%sql SELECT Mission_Outcome, COUNT(Mission_Outcome) AS Total FROM SPACEXTBL GROUP BY Mission_Outcome"
   ]
  },
  {
   "cell_type": "markdown",
   "metadata": {},
   "source": [
    "### Task 8\n",
    "\n",
    "\n",
    "\n",
    "##### List the   names of the booster_versions which have carried the maximum payload mass. Use a subquery\n"
   ]
  },
  {
   "cell_type": "code",
   "execution_count": 28,
   "metadata": {},
   "outputs": [
    {
     "name": "stdout",
     "output_type": "stream",
     "text": [
      " * sqlite:///my_data1.db\n",
      "Done.\n"
     ]
    },
    {
     "data": {
      "text/html": [
       "<table>\n",
       "    <thead>\n",
       "        <tr>\n",
       "            <th>Booster_Version</th>\n",
       "            <th>PAYLOAD_MASS__KG_</th>\n",
       "        </tr>\n",
       "    </thead>\n",
       "    <tbody>\n",
       "        <tr>\n",
       "            <td>F9 B5 B1048.4</td>\n",
       "            <td>15600</td>\n",
       "        </tr>\n",
       "        <tr>\n",
       "            <td>F9 B5 B1049.4</td>\n",
       "            <td>15600</td>\n",
       "        </tr>\n",
       "        <tr>\n",
       "            <td>F9 B5 B1051.3</td>\n",
       "            <td>15600</td>\n",
       "        </tr>\n",
       "        <tr>\n",
       "            <td>F9 B5 B1056.4</td>\n",
       "            <td>15600</td>\n",
       "        </tr>\n",
       "        <tr>\n",
       "            <td>F9 B5 B1048.5</td>\n",
       "            <td>15600</td>\n",
       "        </tr>\n",
       "        <tr>\n",
       "            <td>F9 B5 B1051.4</td>\n",
       "            <td>15600</td>\n",
       "        </tr>\n",
       "        <tr>\n",
       "            <td>F9 B5 B1049.5</td>\n",
       "            <td>15600</td>\n",
       "        </tr>\n",
       "        <tr>\n",
       "            <td>F9 B5 B1060.2 </td>\n",
       "            <td>15600</td>\n",
       "        </tr>\n",
       "        <tr>\n",
       "            <td>F9 B5 B1058.3 </td>\n",
       "            <td>15600</td>\n",
       "        </tr>\n",
       "        <tr>\n",
       "            <td>F9 B5 B1051.6</td>\n",
       "            <td>15600</td>\n",
       "        </tr>\n",
       "        <tr>\n",
       "            <td>F9 B5 B1060.3</td>\n",
       "            <td>15600</td>\n",
       "        </tr>\n",
       "        <tr>\n",
       "            <td>F9 B5 B1049.7 </td>\n",
       "            <td>15600</td>\n",
       "        </tr>\n",
       "    </tbody>\n",
       "</table>"
      ],
      "text/plain": [
       "[('F9 B5 B1048.4', 15600),\n",
       " ('F9 B5 B1049.4', 15600),\n",
       " ('F9 B5 B1051.3', 15600),\n",
       " ('F9 B5 B1056.4', 15600),\n",
       " ('F9 B5 B1048.5', 15600),\n",
       " ('F9 B5 B1051.4', 15600),\n",
       " ('F9 B5 B1049.5', 15600),\n",
       " ('F9 B5 B1060.2 ', 15600),\n",
       " ('F9 B5 B1058.3 ', 15600),\n",
       " ('F9 B5 B1051.6', 15600),\n",
       " ('F9 B5 B1060.3', 15600),\n",
       " ('F9 B5 B1049.7 ', 15600)]"
      ]
     },
     "execution_count": 28,
     "metadata": {},
     "output_type": "execute_result"
    }
   ],
   "source": [
    "%sql SELECT Booster_Version, PAYLOAD_MASS__KG_ FROM SPACEXTBL WHERE PAYLOAD_MASS__KG_ = (SELECT MAX(PAYLOAD_MASS__KG_) FROM SPACEXTBL)"
   ]
  },
  {
   "cell_type": "markdown",
   "metadata": {},
   "source": [
    "### Task 9\n",
    "\n",
    "\n",
    "##### List the records which will display the month names, failure landing_outcomes in drone ship ,booster versions, launch_site for the months in year 2015.\n",
    "\n",
    "**Note: SQLLite does not support monthnames. So you need to use  substr(Date, 6,2) as month to get the months and substr(Date,0,5)='2015' for year.**\n"
   ]
  },
  {
   "cell_type": "code",
   "execution_count": 29,
   "metadata": {},
   "outputs": [
    {
     "name": "stdout",
     "output_type": "stream",
     "text": [
      " * sqlite:///my_data1.db\n",
      "Done.\n"
     ]
    },
    {
     "data": {
      "text/html": [
       "<table>\n",
       "    <thead>\n",
       "        <tr>\n",
       "            <th>month_names</th>\n",
       "            <th>Landing_Outcome</th>\n",
       "            <th>Booster_Version</th>\n",
       "            <th>Launch_Site</th>\n",
       "        </tr>\n",
       "    </thead>\n",
       "    <tbody>\n",
       "        <tr>\n",
       "            <td>01</td>\n",
       "            <td>Failure (drone ship)</td>\n",
       "            <td>F9 v1.1 B1012</td>\n",
       "            <td>CCAFS LC-40</td>\n",
       "        </tr>\n",
       "        <tr>\n",
       "            <td>04</td>\n",
       "            <td>Failure (drone ship)</td>\n",
       "            <td>F9 v1.1 B1015</td>\n",
       "            <td>CCAFS LC-40</td>\n",
       "        </tr>\n",
       "    </tbody>\n",
       "</table>"
      ],
      "text/plain": [
       "[('01', 'Failure (drone ship)', 'F9 v1.1 B1012', 'CCAFS LC-40'),\n",
       " ('04', 'Failure (drone ship)', 'F9 v1.1 B1015', 'CCAFS LC-40')]"
      ]
     },
     "execution_count": 29,
     "metadata": {},
     "output_type": "execute_result"
    }
   ],
   "source": [
    "%sql SELECT substr(Date, 6,2) AS month_names, Landing_Outcome, Booster_Version, Launch_Site\tFROM SPACEXTBL WHERE substr(Date,0,5)='2015' AND Landing_Outcome = 'Failure (drone ship)' "
   ]
  },
  {
   "cell_type": "markdown",
   "metadata": {},
   "source": [
    "### Task 10\n",
    "\n",
    "\n",
    "\n",
    "\n",
    "##### Rank the count of landing outcomes (such as Failure (drone ship) or Success (ground pad)) between the date 2010-06-04 and 2017-03-20, in descending order.\n"
   ]
  },
  {
   "cell_type": "code",
   "execution_count": 36,
   "metadata": {},
   "outputs": [
    {
     "name": "stdout",
     "output_type": "stream",
     "text": [
      " * sqlite:///my_data1.db\n",
      "Done.\n"
     ]
    },
    {
     "data": {
      "text/html": [
       "<table>\n",
       "    <thead>\n",
       "        <tr>\n",
       "            <th>Landing_Outcome</th>\n",
       "            <th>Count</th>\n",
       "        </tr>\n",
       "    </thead>\n",
       "    <tbody>\n",
       "        <tr>\n",
       "            <td>No attempt</td>\n",
       "            <td>10</td>\n",
       "        </tr>\n",
       "        <tr>\n",
       "            <td>Success (drone ship)</td>\n",
       "            <td>5</td>\n",
       "        </tr>\n",
       "        <tr>\n",
       "            <td>Failure (drone ship)</td>\n",
       "            <td>5</td>\n",
       "        </tr>\n",
       "        <tr>\n",
       "            <td>Success (ground pad)</td>\n",
       "            <td>3</td>\n",
       "        </tr>\n",
       "        <tr>\n",
       "            <td>Controlled (ocean)</td>\n",
       "            <td>3</td>\n",
       "        </tr>\n",
       "        <tr>\n",
       "            <td>Uncontrolled (ocean)</td>\n",
       "            <td>2</td>\n",
       "        </tr>\n",
       "        <tr>\n",
       "            <td>Failure (parachute)</td>\n",
       "            <td>2</td>\n",
       "        </tr>\n",
       "        <tr>\n",
       "            <td>Precluded (drone ship)</td>\n",
       "            <td>1</td>\n",
       "        </tr>\n",
       "    </tbody>\n",
       "</table>"
      ],
      "text/plain": [
       "[('No attempt', 10),\n",
       " ('Success (drone ship)', 5),\n",
       " ('Failure (drone ship)', 5),\n",
       " ('Success (ground pad)', 3),\n",
       " ('Controlled (ocean)', 3),\n",
       " ('Uncontrolled (ocean)', 2),\n",
       " ('Failure (parachute)', 2),\n",
       " ('Precluded (drone ship)', 1)]"
      ]
     },
     "execution_count": 36,
     "metadata": {},
     "output_type": "execute_result"
    }
   ],
   "source": [
    "%sql SELECT Landing_Outcome, COUNT(Landing_Outcome) as Count FROM SPACEXTBL WHERE Date BETWEEN '2010-06-04' AND '2017-03-20' GROUP BY Landing_Outcome ORDER BY count DESC"
   ]
  },
  {
   "cell_type": "markdown",
   "metadata": {},
   "source": [
    "### Reference Links\n",
    "\n",
    "* <a href =\"https://cf-courses-data.s3.us.cloud-object-storage.appdomain.cloud/IBMDeveloperSkillsNetwork-DB0201EN-SkillsNetwork/labs/Labs_Coursera_V5/labs/Lab%20-%20String%20Patterns%20-%20Sorting%20-%20Grouping/instructional-labs.md.html?origin=www.coursera.org\">Hands-on Lab : String Patterns, Sorting and Grouping</a>  \n",
    "\n",
    "*  <a  href=\"https://cf-courses-data.s3.us.cloud-object-storage.appdomain.cloud/IBMDeveloperSkillsNetwork-DB0201EN-SkillsNetwork/labs/Labs_Coursera_V5/labs/Lab%20-%20Built-in%20functions%20/Hands-on_Lab__Built-in_Functions.md.html?origin=www.coursera.org\">Hands-on Lab: Built-in functions</a>\n",
    "\n",
    "*  <a  href=\"https://cf-courses-data.s3.us.cloud-object-storage.appdomain.cloud/IBMDeveloperSkillsNetwork-DB0201EN-SkillsNetwork/labs/Labs_Coursera_V5/labs/Lab%20-%20Sub-queries%20and%20Nested%20SELECTs%20/instructional-labs.md.html?origin=www.coursera.org\">Hands-on Lab : Sub-queries and Nested SELECT Statements</a>\n",
    "\n",
    "*   <a href=\"https://cf-courses-data.s3.us.cloud-object-storage.appdomain.cloud/IBMDeveloperSkillsNetwork-DB0201EN-SkillsNetwork/labs/Module%205/DB0201EN-Week3-1-3-SQLmagic.ipynb\">Hands-on Tutorial: Accessing Databases with SQL magic</a>\n",
    "\n",
    "*  <a href= \"https://cf-courses-data.s3.us.cloud-object-storage.appdomain.cloud/IBMDeveloperSkillsNetwork-DB0201EN-SkillsNetwork/labs/Module%205/DB0201EN-Week3-1-4-Analyzing.ipynb\">Hands-on Lab: Analyzing a real World Data Set</a>\n",
    "\n",
    "\n"
   ]
  },
  {
   "cell_type": "markdown",
   "metadata": {},
   "source": [
    "## Author(s)\n",
    "\n",
    "<h4> Lakshmi Holla </h4>\n"
   ]
  },
  {
   "cell_type": "markdown",
   "metadata": {},
   "source": [
    "## Other Contributors\n",
    "\n",
    "<h4> Rav Ahuja </h4>\n"
   ]
  },
  {
   "cell_type": "markdown",
   "metadata": {},
   "source": [
    "<!--\n",
    "## Change log\n",
    "| Date | Version | Changed by | Change Description |\n",
    "|------|--------|--------|---------|\n",
    "| 2024-07-10 | 1.1 |Anita Verma | Changed Version|\n",
    "| 2021-07-09 | 0.2 |Lakshmi Holla | Changes made in magic sql|\n",
    "| 2021-05-20 | 0.1 |Lakshmi Holla | Created Initial Version |\n",
    "-->\n"
   ]
  },
  {
   "cell_type": "markdown",
   "metadata": {},
   "source": [
    "## <h3 align=\"center\"> © IBM Corporation 2021. All rights reserved. <h3/>\n"
   ]
  }
 ],
 "metadata": {
  "kernelspec": {
   "display_name": "Python 3 (ipykernel)",
   "language": "python",
   "name": "python3"
  },
  "language_info": {
   "codemirror_mode": {
    "name": "ipython",
    "version": 3
   },
   "file_extension": ".py",
   "mimetype": "text/x-python",
   "name": "python",
   "nbconvert_exporter": "python",
   "pygments_lexer": "ipython3",
   "version": "3.11.7"
  },
  "prev_pub_hash": "a5fa84525a820d08c9ec9c9cccf7d39455745aa2be6c2efdd18931346283d2d9"
 },
 "nbformat": 4,
 "nbformat_minor": 4
}
